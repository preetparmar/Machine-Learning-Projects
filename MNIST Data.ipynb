{
 "cells": [
  {
   "cell_type": "markdown",
   "metadata": {},
   "source": [
    "In this notebook, I will work through MNIST data and look at some classification algorithms"
   ]
  },
  {
   "cell_type": "markdown",
   "metadata": {},
   "source": [
    "# Importing common libraries"
   ]
  },
  {
   "cell_type": "code",
   "execution_count": 1,
   "metadata": {},
   "outputs": [],
   "source": [
    "import pandas as pd\n",
    "import numpy as np\n",
    "import matplotlib.pyplot as plt"
   ]
  },
  {
   "cell_type": "markdown",
   "metadata": {},
   "source": [
    "# Importing the Data\n",
    "We can use `sklearn.datasets.fetch_openml` to get the MNIST data."
   ]
  },
  {
   "cell_type": "code",
   "execution_count": 2,
   "metadata": {},
   "outputs": [
    {
     "data": {
      "text/plain": [
       "dict_keys(['data', 'target', 'frame', 'feature_names', 'target_names', 'DESCR', 'details', 'categories', 'url'])"
      ]
     },
     "execution_count": 2,
     "metadata": {},
     "output_type": "execute_result"
    }
   ],
   "source": [
    "from sklearn.datasets import fetch_openml\n",
    "mnist = fetch_openml('mnist_784', version=1)\n",
    "mnist.keys()"
   ]
  },
  {
   "cell_type": "markdown",
   "metadata": {},
   "source": [
    "The MNIST data is already broken out into features and labels"
   ]
  },
  {
   "cell_type": "code",
   "execution_count": 3,
   "metadata": {},
   "outputs": [
    {
     "data": {
      "text/plain": [
       "(70000, 784)"
      ]
     },
     "execution_count": 3,
     "metadata": {},
     "output_type": "execute_result"
    }
   ],
   "source": [
    "X, y = mnist['data'], mnist['target']\n",
    "X.shape"
   ]
  },
  {
   "cell_type": "markdown",
   "metadata": {},
   "source": [
    "From the shape, we can see it has 7000 rows and 784 columns. Each row has 784 features which represents a 28x28 image.\n",
    "Let's look at the first digit"
   ]
  },
  {
   "cell_type": "code",
   "execution_count": 4,
   "metadata": {},
   "outputs": [
    {
     "data": {
      "image/png": "[encoded data removed]",
      "text/plain": [
       "<Figure size 432x288 with 1 Axes>"
      ]
     },
     "metadata": {
      "needs_background": "light"
     },
     "output_type": "display_data"
    }
   ],
   "source": [
    "some_digit = X[0]\n",
    "some_digit_image = some_digit.reshape(28, 28)\n",
    "plt.imshow(some_digit_image, cmap='binary')\n",
    "plt.show()"
   ]
  },
  {
   "cell_type": "markdown",
   "metadata": {},
   "source": [
    "As we can see, it's a '5'. Let's look at the label for this row."
   ]
  },
  {
   "cell_type": "code",
   "execution_count": 6,
   "metadata": {},
   "outputs": [
    {
     "data": {
      "text/plain": [
       "'5'"
      ]
     },
     "execution_count": 6,
     "metadata": {},
     "output_type": "execute_result"
    }
   ],
   "source": [
    "y[0]"
   ]
  },
  {
   "cell_type": "markdown",
   "metadata": {},
   "source": [
    "Yay! it's indeed a '5'. Thing to note here is that the target values are stored in string format, so let's convert the target values into integers."
   ]
  },
  {
   "cell_type": "code",
   "execution_count": 5,
   "metadata": {},
   "outputs": [],
   "source": [
    "y = y.astype(np.uint8)"
   ]
  },
  {
   "cell_type": "markdown",
   "metadata": {},
   "source": [
    "# Splitting the Data into Training and Test sets\n",
    "\n",
    "The data is already split into training and test data based on the index. First 60000 rows are training set and the remaining ones are test set. So we can easily split the data without the need of any librarires"
   ]
  },
  {
   "cell_type": "code",
   "execution_count": 7,
   "metadata": {},
   "outputs": [],
   "source": [
    "X_train, X_test, y_train, y_test = X[:60000], X[60000:], y[:60000], y[60000:]"
   ]
  },
  {
   "cell_type": "markdown",
   "metadata": {},
   "source": [
    "# Machine Learning Algorithms\n",
    "\n",
    "## Binary Algorithms:\n",
    "- __Stochastic Gradient Descent (SGD) Classifier__\n",
    "    - Capable of handling very large datasets efficiently, as SGD deals with training instances independently\n",
    "    - Suited for online training\n",
    "\n",
    "## Multiclass Classification\n",
    "\n",
    "Multiclass Classifiers _(also called as Multinomial Classifiers)_ can distinguish between more than two classes.\n",
    "\n",
    "Some algorithms (such as Random Forest Classifiers or Naive Bayes Classifiers) are capable of handling multiple classes directly. Others (such as Support Vector Machine Classifiers or Linear Classifiers) are strictly Binary Classifiers. However, there are various strategies that we can use to perform Multiclass Classification using Binary Classifierrs:\n",
    "\n",
    "- __One-versus-the-rest__ (OvA):\n",
    "    - One way to create a system that can classify the digit images into 10 classes (from 0 to 9) is to train 10 Binary Classifierrs, one for each digit (0-detector, 1-detector, and so on). \n",
    "    - Then when we want to classsify an image, we get the decision score from each classifier for that image and we select the class whose classifier output (decision score) is the highest.\n",
    "    - For most Binay Classification algorithms, OvA is preferred.\n",
    "\n",
    "- __One-versus-One__ (OvO):\n",
    "    - Another strategy is to train a Binary Classifier for every pair of digits: one to distinguish 0s and 1s, another to distinguish 0s and 2s, another for 1s and 2s, and so on.\n",
    "    - If there are N classes, then we need to train N$*$(N-1)$/$2 classifiers. For our problem, this means training 45 Binary Classifiers.\n",
    "    - When we want to classify an image, we have to run the image through all 45 classifiers and see which class wins the most duels.\n",
    "    - The main advantage of OvO is that each classifier only needs to be trained on the part of the training set for the two classes it must distinguish.\n",
    "    - Some algorithms (such as Support Vector Machine Classifer) scale poorly with the size of training set, so for these algorithms OvO is preferred since it is faster to train many classifiers on small training sets than training few classifiers on large training sets.\n",
    "\n",
    "Scikit-Learn detects when you try to use a binary classification algorithm for a multiclass classification task, and it automatically runs OvA (except for SVM classifier for which it uses OvO). Let's try this with our `SGDClassifier`:"
   ]
  },
  {
   "cell_type": "markdown",
   "metadata": {},
   "source": [
    "Since we are working with Binary Algorithms, let's focus on only one digit '5'"
   ]
  },
  {
   "cell_type": "code",
   "execution_count": 8,
   "metadata": {},
   "outputs": [],
   "source": [
    "y_train_5 = (y_train == 5)\n",
    "y_test_y = (y_test == 5)"
   ]
  },
  {
   "cell_type": "markdown",
   "metadata": {},
   "source": [
    "#### Stochastic Gradient Descent (SGD) Classifier:"
   ]
  },
  {
   "cell_type": "code",
   "execution_count": 9,
   "metadata": {},
   "outputs": [
    {
     "data": {
      "text/plain": [
       "SGDClassifier(alpha=0.0001, average=False, class_weight=None,\n",
       "              early_stopping=False, epsilon=0.1, eta0=0.0, fit_intercept=True,\n",
       "              l1_ratio=0.15, learning_rate='optimal', loss='hinge',\n",
       "              max_iter=1000, n_iter_no_change=5, n_jobs=None, penalty='l2',\n",
       "              power_t=0.5, random_state=42, shuffle=True, tol=0.001,\n",
       "              validation_fraction=0.1, verbose=0, warm_start=False)"
      ]
     },
     "execution_count": 9,
     "metadata": {},
     "output_type": "execute_result"
    }
   ],
   "source": [
    "from sklearn.linear_model import SGDClassifier\n",
    "sgd_clf = SGDClassifier(random_state=42)\n",
    "sgd_clf.fit(X_train, y_train_5)"
   ]
  },
  {
   "cell_type": "markdown",
   "metadata": {},
   "source": [
    "Now let's predict the value of the first row using this model"
   ]
  },
  {
   "cell_type": "code",
   "execution_count": 10,
   "metadata": {},
   "outputs": [
    {
     "data": {
      "text/plain": [
       "array([ True])"
      ]
     },
     "execution_count": 10,
     "metadata": {},
     "output_type": "execute_result"
    }
   ],
   "source": [
    "sgd_clf.predict([some_digit])"
   ]
  },
  {
   "cell_type": "markdown",
   "metadata": {},
   "source": [
    "As we can see the classifier predicts the image correctly"
   ]
  },
  {
   "cell_type": "markdown",
   "metadata": {},
   "source": [
    "# Evaluating the Model\n",
    "\n",
    "- __Cross Validation Score__\n",
    "    - For a classification model, this approach isn't used as often\n",
    "- __Confusion Matrix__\n",
    "    - Much better way to evaluate a classification model\n",
    "    - We need set of predictions in order to compute confusion matrix\n",
    "    - Overall understanding about the predictions and errors\n",
    "    - Using the confusion matrix, we can calculate various evaluating metrics:\n",
    "    - __Precision:__\n",
    "        - How many predictions were actually correct\n",
    "        - True Positive / (True Positive + False Positive)\n",
    "    - __Recall:__\n",
    "        - How many true class we are able to catch\n",
    "        - True Positive / (True Positive + False Negative)\n",
    "    - __F1 Score:__\n",
    "        - It is the harmonic mean of precision and reacall, that means it gives much more weight to the lower value\n",
    "        - 2 * (Precision * Recall) / (Precision + Recall)\n",
    "- __Precision vs Recall Graphs__\n",
    "    - Precision Recall Curve\n",
    "    - Precision vs Recall\n",
    "    - Receiver Operator Curve (ROC)\n",
    "        - Another common tool used with binary classifiers\n",
    "        - Similar to precision recall cureve, but instead of plotting precision vs recall, the ROC curve plots true positive rate (another name for recall) against false positive rate\n",
    "        - The FPR is the ratio of negative instances that are incorrectly classified as positive. It is equal to one minus TNR. The TNR is also called specificity.\n",
    "        - Hence, the ROC curve plots `Sensitivity _(recall)_` versus `1 - Specificity`"
   ]
  },
  {
   "cell_type": "markdown",
   "metadata": {},
   "source": [
    "#### Cross Validation Score"
   ]
  },
  {
   "cell_type": "code",
   "execution_count": 15,
   "metadata": {},
   "outputs": [
    {
     "name": "stdout",
     "output_type": "stream",
     "text": [
      "Accuracy: 0.87\n",
      "Accuracy: 0.86\n",
      "Accuracy: 0.87\n"
     ]
    }
   ],
   "source": [
    "from sklearn.model_selection import cross_val_score\n",
    "sgd_cv_scores = cross_val_score(sgd_clf, X_train, y_train, cv=3, scoring='accuracy')\n",
    "\n",
    "for accuracy_ in sgd_cv_scores:\n",
    "    print(f'Accuracy: {round(accuracy_, 2)}')"
   ]
  },
  {
   "cell_type": "markdown",
   "metadata": {},
   "source": [
    "#### Confusion Matrix\n",
    "In order to get the confusion matrix, we need predictions which then can be compared with the original values to get the confusion matrix. So let's get all the predictions, we can use `cross_val_predict()` to get our predictions. This performs K-fold cross-validation, but instead of returning the scores, it returns the predictions made on each test fold."
   ]
  },
  {
   "cell_type": "code",
   "execution_count": 10,
   "metadata": {},
   "outputs": [],
   "source": [
    "from sklearn.model_selection import cross_val_predict\n",
    "y_train_5_pred = cross_val_predict(sgd_clf, X_train, y_train_5, cv=5)"
   ]
  },
  {
   "cell_type": "markdown",
   "metadata": {},
   "source": [
    "Now let's get our confusion matrix"
   ]
  },
  {
   "cell_type": "code",
   "execution_count": 11,
   "metadata": {},
   "outputs": [
    {
     "data": {
      "text/plain": [
       "array([[53115,  1464],\n",
       "       [  916,  4505]], dtype=int64)"
      ]
     },
     "execution_count": 11,
     "metadata": {},
     "output_type": "execute_result"
    }
   ],
   "source": [
    "from sklearn.metrics import confusion_matrix\n",
    "confusion_matrix(y_train_5, y_train_5_pred)"
   ]
  },
  {
   "cell_type": "markdown",
   "metadata": {},
   "source": [
    "Each row in confusion matrix represents an actual class, while each column represents a predicted class.\n",
    "- The first row of this matrix is the Negative Class (non-5 images)\n",
    "    - 53,115 were correctly classified as non-5s (True Negative)\n",
    "    - 1,464 were incorrectly classified as 5s (False Positives)\n",
    "- The second row of this matrix is the Positive Class (5 images)\n",
    "    - 916 were incorrectly classified as non-5s (False Negative)\n",
    "    - 4,505 were correctly classified as 5s (True Positive)\n",
    "\n",
    "| Actual Values | Predicted Negative | Predicted Positive |\n",
    "| ------------- | ------------------ | ------------------ |\n",
    "| Negative | True Negative | False Positive |\n",
    "| Positive | False Negative | True Positive |"
   ]
  },
  {
   "cell_type": "markdown",
   "metadata": {},
   "source": [
    "Now let's calculate various evaluating metrics:"
   ]
  },
  {
   "cell_type": "markdown",
   "metadata": {},
   "source": [
    "##### Precision, Recall and F1 Score:"
   ]
  },
  {
   "cell_type": "code",
   "execution_count": 15,
   "metadata": {},
   "outputs": [
    {
     "name": "stdout",
     "output_type": "stream",
     "text": [
      "Precision:  75.47%\n",
      "Recall:  83.10%\n",
      "F1 Score:  79.10%\n"
     ]
    }
   ],
   "source": [
    "from sklearn.metrics import precision_score, recall_score, f1_score\n",
    "sgd_precision = precision_score(y_train_5, y_train_5_pred)\n",
    "sgd_recall = recall_score(y_train_5, y_train_5_pred)\n",
    "sgd_f1_score = f1_score(y_train_5, y_train_5_pred)\n",
    "\n",
    "print(f'Precision: {sgd_precision: .2%}')\n",
    "print(f'Recall: {sgd_recall: .2%}')\n",
    "print(f'F1 Score: {sgd_f1_score: .2%}')"
   ]
  },
  {
   "cell_type": "markdown",
   "metadata": {},
   "source": [
    "We can get a particular Precision or Recall by changing the threshods. By default Scikit-Learn doesn't let us set the threshold directly, but it does give us access to decision scores that it uses to make the predictions. \n",
    "Please note: there is tradeoff between Precision and Recall, meaning if you try to increase one, the other one decreases."
   ]
  },
  {
   "cell_type": "code",
   "execution_count": 19,
   "metadata": {},
   "outputs": [
    {
     "name": "stdout",
     "output_type": "stream",
     "text": [
      "y_score: [2164.22030239]\n",
      "Some digit prediction: [ True]\n"
     ]
    }
   ],
   "source": [
    "sgd_y_scores = sgd_clf.decision_function([some_digit])\n",
    "print(f'y_score: {sgd_y_scores}')\n",
    "threshold_ = 0\n",
    "y_some_digit_pred = (sgd_y_scores > threshold_)\n",
    "print(f'Some digit prediction: {y_some_digit_pred}')"
   ]
  },
  {
   "cell_type": "markdown",
   "metadata": {},
   "source": [
    "By default, `SGDClassifier` uses the threshold of __0__. That's why the previous code returns same result as `predict()` method. Let's raise the threshold and see the result"
   ]
  },
  {
   "cell_type": "code",
   "execution_count": 20,
   "metadata": {},
   "outputs": [
    {
     "name": "stdout",
     "output_type": "stream",
     "text": [
      "Some digit prediction: [False]\n"
     ]
    }
   ],
   "source": [
    "threshold_ = 5000\n",
    "y_some_digit_pred = (sgd_y_scores > threshold_)\n",
    "print(f'Some digit prediction: {y_some_digit_pred}')"
   ]
  },
  {
   "cell_type": "markdown",
   "metadata": {},
   "source": [
    "Let's get scores of all the instances and look at ways to decide the threshold manually"
   ]
  },
  {
   "cell_type": "code",
   "execution_count": 21,
   "metadata": {},
   "outputs": [],
   "source": [
    "sgd_y_scores = cross_val_predict(sgd_clf, X_train, y_train_5, cv=3, method='decision_function')"
   ]
  },
  {
   "cell_type": "markdown",
   "metadata": {},
   "source": [
    "##### Precision Recall Curve\n",
    "Now with these scores, we can compute precision and recall for all the possible thresholds using `precision_recall_curve()` method:"
   ]
  },
  {
   "cell_type": "code",
   "execution_count": 22,
   "metadata": {},
   "outputs": [],
   "source": [
    "from sklearn.metrics import precision_recall_curve\n",
    "\n",
    "sgd_precisions, sgd_recalls, sgd_thresholds = precision_recall_curve(y_train_5, sgd_y_scores)"
   ]
  },
  {
   "cell_type": "markdown",
   "metadata": {},
   "source": [
    "Now, we can plot the precision and recalls as functions of threshold values:"
   ]
  },
  {
   "cell_type": "code",
   "execution_count": 52,
   "metadata": {},
   "outputs": [
    {
     "data": {
      "image/png": "[encoded data removed]",
      "text/plain": [
       "<Figure size 864x288 with 1 Axes>"
      ]
     },
     "metadata": {
      "needs_background": "light"
     },
     "output_type": "display_data"
    }
   ],
   "source": [
    "plt.figure(figsize=(12, 4))\n",
    "plt.plot(sgd_thresholds, sgd_precisions[:-1], '--b', linewidth=2, label='Prediction')\n",
    "plt.plot(sgd_thresholds, sgd_recalls[:-1], 'g-', linewidth=2, label='Recall')\n",
    "plt.legend(loc='center right', fontsize=16)\n",
    "plt.title('Precision and Recall vs Threshold', fontsize=20)\n",
    "plt.xlabel('Threshold', fontsize=16)\n",
    "plt.grid()\n",
    "plt.axis([-50000, 50000, 0, 1])\n",
    "\n",
    "sgd_precision_value = 0.90\n",
    "sgd_threshold_value = sgd_thresholds[np.argmax(sgd_precisions >= sgd_precision_value)]\n",
    "sgd_recall_value = sgd_recalls[np.argmax(sgd_thresholds >= sgd_threshold_value)]\n",
    "\n",
    "plt.plot([-50000, sgd_threshold_value], [sgd_precision_value, sgd_precision_value], 'r:')\n",
    "plt.plot([-50000, sgd_threshold_value], [sgd_recall_value, sgd_recall_value], 'r:')\n",
    "plt.plot([sgd_threshold_value, sgd_threshold_value], [sgd_precision_value, 0], 'r:')\n",
    "\n",
    "plt.plot([sgd_threshold_value, sgd_threshold_value], [sgd_precision_value, sgd_precision_value], 'ro')\n",
    "plt.plot([sgd_threshold_value, sgd_threshold_value], [sgd_recall_value, sgd_recall_value], 'ro')\n",
    "\n",
    "plt.show()"
   ]
  },
  {
   "cell_type": "markdown",
   "metadata": {},
   "source": [
    "Using the chart above:\n",
    "- We can see that as Precision increases, Recall decreases\n",
    "- Precision curve is a little bumpier, that is because precision may sometimes decrease as we increase threshold\n",
    "- We can find the prefect threshold for our analysis, by comparing the precision and recall at that given threshold"
   ]
  },
  {
   "cell_type": "markdown",
   "metadata": {},
   "source": [
    "##### Precision/Recall\n",
    "Another way to select a good precision/recall tradeoff is to plot precision directly with recall:"
   ]
  },
  {
   "cell_type": "code",
   "execution_count": 62,
   "metadata": {},
   "outputs": [
    {
     "data": {
      "text/plain": [
       "[]"
      ]
     },
     "execution_count": 62,
     "metadata": {},
     "output_type": "execute_result"
    },
    {
     "data": {
      "image/png": "[encoded data removed]",
      "text/plain": [
       "<Figure size 432x288 with 1 Axes>"
      ]
     },
     "metadata": {
      "needs_background": "light"
     },
     "output_type": "display_data"
    }
   ],
   "source": [
    "plt.plot(sgd_recalls, sgd_precisions, 'b-', linewidth=2)\n",
    "plt.xlabel('Recall', fontsize=16)\n",
    "plt.ylabel('Precisions', fontsize=16)\n",
    "plt.title('Precision vs Recall', fontsize=20)\n",
    "plt.axis([0, 1, 0, 1])\n",
    "plt.grid()\n",
    "plt.plot()"
   ]
  },
  {
   "cell_type": "markdown",
   "metadata": {},
   "source": [
    "Looking at the above chart:\n",
    "- Precision falls sharply around 0.8 (80%) recall\n",
    "- We would choose a precision/recall tradeoff just before that drop off"
   ]
  },
  {
   "cell_type": "markdown",
   "metadata": {},
   "source": [
    "Let's suppose we decided to aim for a 90% precision value. We can look at the first plot to find out the threshold we need. To get a precise value, we can search for the lowest threshold that gives us at least 90% precision value using `np.argmax()` method. This gives us the first index of the maximum value."
   ]
  },
  {
   "cell_type": "code",
   "execution_count": 65,
   "metadata": {},
   "outputs": [
    {
     "name": "stdout",
     "output_type": "stream",
     "text": [
      "Threshold value for 90% Precision: 3370.02\n"
     ]
    }
   ],
   "source": [
    "sgd_threshold_90_precision = sgd_thresholds[np.argmax(sgd_precisions >= 0.90)]\n",
    "print(f'Threshold value for 90% Precision: {round(sgd_threshold_90_precision, 2)}')"
   ]
  },
  {
   "cell_type": "markdown",
   "metadata": {},
   "source": [
    "Now, in order to make predicions using this threshold, instead of calling the classifier's `predict()` method, we can just compare the scores with the threshold"
   ]
  },
  {
   "cell_type": "code",
   "execution_count": 66,
   "metadata": {},
   "outputs": [],
   "source": [
    "sgd_y_train_pred_90 = (sgd_y_scores >= sgd_threshold_90_precision)"
   ]
  },
  {
   "cell_type": "markdown",
   "metadata": {},
   "source": [
    "Now let's check the scores:"
   ]
  },
  {
   "cell_type": "code",
   "execution_count": 67,
   "metadata": {},
   "outputs": [
    {
     "name": "stdout",
     "output_type": "stream",
     "text": [
      "Precision:  0.9000345901072293\n",
      "Recall:  0.4799852425751706\n"
     ]
    }
   ],
   "source": [
    "print('Precision: ', precision_score(y_train_5, sgd_y_train_pred_90))\n",
    "print('Recall: ', recall_score(y_train_5, sgd_y_train_pred_90))"
   ]
  },
  {
   "cell_type": "markdown",
   "metadata": {},
   "source": [
    "##### ROC Curve"
   ]
  },
  {
   "cell_type": "code",
   "execution_count": 68,
   "metadata": {},
   "outputs": [],
   "source": [
    "from sklearn.metrics import roc_curve\n",
    "\n",
    "sgd_fpr, sgd_tpr, sgd_thresholds = roc_curve(y_train_5, sgd_y_scores)"
   ]
  },
  {
   "cell_type": "markdown",
   "metadata": {},
   "source": [
    "Now let's plot the graph:"
   ]
  },
  {
   "cell_type": "code",
   "execution_count": 75,
   "metadata": {},
   "outputs": [
    {
     "data": {
      "image/png": "[encoded data removed]",
      "text/plain": [
       "<Figure size 432x288 with 1 Axes>"
      ]
     },
     "metadata": {
      "needs_background": "light"
     },
     "output_type": "display_data"
    }
   ],
   "source": [
    "plt.plot(sgd_fpr, sgd_tpr, 'b-', linewidth=2)\n",
    "plt.plot([0, 1], [0, 1], 'k--', alpha=0.4)\n",
    "\n",
    "plt.xlabel('False Positive Rate (Fall out)', fontsize=16)\n",
    "plt.ylabel('True Positive Rate (Recall)', fontsize=16)\n",
    "plt.title('ROC Curve', fontsize=20)\n",
    "plt.grid()\n",
    "plt.axis([0, 1, 0, 1])\n",
    "plt.show()"
   ]
  },
  {
   "cell_type": "markdown",
   "metadata": {},
   "source": [
    "One way to compare classifiers is to measure the area under the curve (AUC). A perfect classifier will have ROC AUC = 1, whereas a purely random classifier with have ROC AUC = 0.5\n",
    "\n",
    "Scikit-Learn provides a method `roc_auc_score()` to compute this value:"
   ]
  },
  {
   "cell_type": "code",
   "execution_count": 76,
   "metadata": {},
   "outputs": [
    {
     "name": "stdout",
     "output_type": "stream",
     "text": [
      "ROC AUC Score:  0.96\n"
     ]
    }
   ],
   "source": [
    "from sklearn.metrics import roc_auc_score\n",
    "sgd_auc_score = roc_auc_score(y_train_5, sgd_y_scores)\n",
    "print('ROC AUC Score: ', round(sgd_auc_score, 2))"
   ]
  },
  {
   "cell_type": "markdown",
   "metadata": {},
   "source": [
    "_**NOTE:**\n",
    "Since the ROC curve is so similar to the precision/recall (or PR) curve, you may wonder how to decide which one to use. As a rule of thumb, you should prefer the PR curve whenever the positive class is rare or when you care more about the false positives than the false negatives, and the ROC curve otherwise. For example, looking at the previous ROC curve (and the ROC AUC score), you may think that the classifier is really good. But this is mostly because there are few positives (5s) compared to the negatives (non-5s). In contrast, the PR curve makes it clear that the classifier has room for improvement (the curve could be closer to the topright corner)._"
   ]
  },
  {
   "cell_type": "markdown",
   "metadata": {},
   "source": [
    "#### Random Forest Classifer:\n",
    "\n",
    "_RandomForestClassifier does not have a `decision_function()` method. Instead, it has `predict_proba()` method. Scikit-Learn classifiers generally have one or the other. The `predict_proba()` method returns an array containing a row per instance and a column per class, each containing the probability that the given instance belongs to the given class (eg: 70% chance that the image represents a 5)_"
   ]
  },
  {
   "cell_type": "code",
   "execution_count": 77,
   "metadata": {},
   "outputs": [],
   "source": [
    "from sklearn.ensemble import RandomForestClassifier\n",
    "\n",
    "forest_clf = RandomForestClassifier(random_state=42)\n",
    "forest_y_probas = cross_val_predict(forest_clf, X_train, y_train_5, cv=3, method='predict_proba')"
   ]
  },
  {
   "cell_type": "markdown",
   "metadata": {},
   "source": [
    "In order to plot the ROC curve we need scores, not probabilites. A simple solution is to use the positive class's probability as the score:"
   ]
  },
  {
   "cell_type": "code",
   "execution_count": 80,
   "metadata": {},
   "outputs": [],
   "source": [
    "forest_y_scores = forest_y_probas[:, 1]\n",
    "forest_fpr, forest_tpr, forest_threshold = roc_curve(y_train_5, forest_y_scores)"
   ]
  },
  {
   "cell_type": "markdown",
   "metadata": {},
   "source": [
    "Now let's plot the ROC Curve:"
   ]
  },
  {
   "cell_type": "code",
   "execution_count": 85,
   "metadata": {},
   "outputs": [
    {
     "data": {
      "image/png": "[encoded data removed]",
      "text/plain": [
       "<Figure size 576x432 with 1 Axes>"
      ]
     },
     "metadata": {
      "needs_background": "light"
     },
     "output_type": "display_data"
    }
   ],
   "source": [
    "plt.figure(figsize=(8, 6))\n",
    "plt.plot(forest_fpr, forest_tpr, 'b-', label='Random Forest')\n",
    "plt.plot(sgd_fpr, sgd_tpr, 'b:', label='SGD Classifier')\n",
    "plt.xlabel('False Positive Rate', fontsize=16)\n",
    "plt.ylabel('True Positive Rate', fontsize=16)\n",
    "plt.title('ROC Curve', fontsize=20)\n",
    "plt.legend(loc='lower right')\n",
    "plt.axis([0, 1, 0, 1])\n",
    "plt.grid()\n",
    "plt.show()"
   ]
  },
  {
   "cell_type": "markdown",
   "metadata": {},
   "source": [
    "From the above chart:\n",
    "- We can see that the Random Forest Classifier's ROC is much closer to the corner, suggesting that Random Forest Classifier is better than SGD Classifier"
   ]
  },
  {
   "cell_type": "markdown",
   "metadata": {},
   "source": [
    "Now let's calculate the AUC Score and compare with SGD Classifier"
   ]
  },
  {
   "cell_type": "code",
   "execution_count": 86,
   "metadata": {},
   "outputs": [
    {
     "name": "stdout",
     "output_type": "stream",
     "text": [
      "Forest AUC Score: 0.998\n",
      "SGD AUC Score: 0.960\n"
     ]
    }
   ],
   "source": [
    "forest_auc_score = roc_auc_score(y_train_5, forest_y_scores)\n",
    "print(f'Forest AUC Score: {forest_auc_score:.3f}\\nSGD AUC Score: {sgd_auc_score:.3f}')"
   ]
  },
  {
   "cell_type": "markdown",
   "metadata": {},
   "source": [
    "Here we can see:\n",
    "- AUC for Random Forest is higher compared to SGD Classifer"
   ]
  },
  {
   "cell_type": "markdown",
   "metadata": {},
   "source": [
    "Let's calculate Precision, Recall and F1 Scores for Random Forest:\n",
    "\n",
    "_In order to these, we need predictions instead of scores_"
   ]
  },
  {
   "cell_type": "code",
   "execution_count": 87,
   "metadata": {},
   "outputs": [],
   "source": [
    "forest_y_train_pred = cross_val_predict(forest_clf, X_train, y_train_5, cv=3)"
   ]
  },
  {
   "cell_type": "code",
   "execution_count": 88,
   "metadata": {},
   "outputs": [
    {
     "name": "stdout",
     "output_type": "stream",
     "text": [
      "Precision: 99.05%\n",
      "Recall: 86.63%\n",
      "F1 Score: 92.42%\n"
     ]
    }
   ],
   "source": [
    "forest_precision = precision_score(y_train_5, forest_y_train_pred)\n",
    "forest_recall = recall_score(y_train_5, forest_y_train_pred)\n",
    "forest_f1score = f1_score(y_train_5, forest_y_train_pred)\n",
    "\n",
    "print(f'Precision: {forest_precision:.2%}')\n",
    "print(f'Recall: {forest_recall:.2%}')\n",
    "print(f'F1 Score: {forest_f1score:.2%}')"
   ]
  },
  {
   "cell_type": "markdown",
   "metadata": {},
   "source": [
    "#### Multiclass Classification"
   ]
  },
  {
   "cell_type": "markdown",
   "metadata": {},
   "source": [
    "##### SGD Classifier"
   ]
  },
  {
   "cell_type": "code",
   "execution_count": 89,
   "metadata": {},
   "outputs": [
    {
     "data": {
      "text/plain": [
       "array([3], dtype=uint8)"
      ]
     },
     "execution_count": 89,
     "metadata": {},
     "output_type": "execute_result"
    }
   ],
   "source": [
    "sgd_clf = SGDClassifier(random_state=42)\n",
    "sgd_clf.fit(X_train, y_train)\n",
    "sgd_clf.predict([some_digit])"
   ]
  },
  {
   "cell_type": "markdown",
   "metadata": {},
   "source": [
    "That was easy! This code trains the `SGDClassifier` on the training set using the original target classes from 0 to 9, instead of the 5-versus-all target classes. Then it makes prediction (a wrong one in this case). Under the hood, Scikit-Learn acutally traiined 10 binary classifiers, got their decision scores for the image, and selected the class with the highest score.\n",
    "\n",
    "To see that, we can call the `decision_function()` method. Instead of returning just one score per instance, it now returns 10 scores, one per each class:"
   ]
  },
  {
   "cell_type": "code",
   "execution_count": 90,
   "metadata": {},
   "outputs": [
    {
     "name": "stdout",
     "output_type": "stream",
     "text": [
      "Scores: [[-31893.03095419 -34419.69069632  -9530.63950739   1823.73154031\n",
      "  -22320.14822878  -1385.80478895 -26188.91070951 -16147.51323997\n",
      "   -4604.35491274 -12050.767298  ]]\n",
      "Classes: [0 1 2 3 4 5 6 7 8 9]\n",
      "Output Class: 3\n"
     ]
    }
   ],
   "source": [
    "some_digit_scores = sgd_clf.decision_function([some_digit])\n",
    "print('Scores:', some_digit_scores)\n",
    "print('Classes:', sgd_clf.classes_)\n",
    "print('Output Class:', sgd_clf.classes_[np.argmax(some_digit_scores)])"
   ]
  },
  {
   "cell_type": "markdown",
   "metadata": {},
   "source": [
    "Here, we see that we have 10 scores and the highest score belongs to the class 3.\n",
    "\n",
    "_**NOTE:**\n",
    "When a classifier is trained, it stores the list of classes in its `classes` attribute, ordered by value. In this case, the index of each class in the `classes` array conveniently matches the class itself, but in general we won't be so lucky._\n",
    "\n",
    "If you want to force Scikit-Learn to use OvO or OvA, you can use the `OneVsOneClassifier` or `OneVsRestClassifier` classes. Simply create an instance and pass a binary classifier to its constructor. For example, this code creates a multicalss classifier using OvO strategy, based on `SGDClassifier`:"
   ]
  },
  {
   "cell_type": "code",
   "execution_count": 91,
   "metadata": {},
   "outputs": [
    {
     "data": {
      "text/plain": [
       "array([5], dtype=uint8)"
      ]
     },
     "execution_count": 91,
     "metadata": {},
     "output_type": "execute_result"
    }
   ],
   "source": [
    "from sklearn.multiclass import OneVsOneClassifier\n",
    "\n",
    "ovo_clf = OneVsOneClassifier(estimator=SGDClassifier(random_state=42))\n",
    "ovo_clf.fit(X_train, y_train)\n",
    "ovo_clf.predict([some_digit])"
   ]
  },
  {
   "cell_type": "markdown",
   "metadata": {},
   "source": [
    "__NOTE:__ When using `SGDClassifier` as OvO it predicted the some_digit correctly"
   ]
  },
  {
   "cell_type": "code",
   "execution_count": 92,
   "metadata": {},
   "outputs": [
    {
     "name": "stdout",
     "output_type": "stream",
     "text": [
      "Length of the estimator 45\n"
     ]
    }
   ],
   "source": [
    "print('Length of the estimator', len(ovo_clf.estimators_))"
   ]
  },
  {
   "cell_type": "markdown",
   "metadata": {},
   "source": [
    "##### Random Forest Classifier"
   ]
  },
  {
   "cell_type": "code",
   "execution_count": 93,
   "metadata": {},
   "outputs": [
    {
     "data": {
      "text/plain": [
       "array([5], dtype=uint8)"
      ]
     },
     "execution_count": 93,
     "metadata": {},
     "output_type": "execute_result"
    }
   ],
   "source": [
    "forest_clf = RandomForestClassifier(random_state=42)\n",
    "forest_clf.fit(X_train, y_train)\n",
    "forest_clf.predict([some_digit])"
   ]
  },
  {
   "cell_type": "markdown",
   "metadata": {},
   "source": [
    "This time Scikit-Learn did not have to run OvA or OvO because Random Forest Classifier can directly classify instances into multiple classes. We can call the `predict_proba()` to get the list of probabilities that the classifier assigned to each instance for each class:"
   ]
  },
  {
   "cell_type": "code",
   "execution_count": 94,
   "metadata": {},
   "outputs": [
    {
     "data": {
      "text/plain": [
       "array([[0.  , 0.  , 0.01, 0.08, 0.  , 0.9 , 0.  , 0.  , 0.  , 0.01]])"
      ]
     },
     "execution_count": 94,
     "metadata": {},
     "output_type": "execute_result"
    }
   ],
   "source": [
    "forest_clf.predict_proba([some_digit])"
   ]
  },
  {
   "cell_type": "markdown",
   "metadata": {},
   "source": [
    "We can see that the classifier is fairly confident about it's prediction: the 0.9 at the 5th index in the array means that the model estimates a 90% probability that the image represents a 5. It also thinks that the image could instead be a 2, a 3, or a 9, respectively with 1%, 8% and 1% probability."
   ]
  },
  {
   "cell_type": "markdown",
   "metadata": {},
   "source": [
    "Evaluating the performance of this classifier:"
   ]
  },
  {
   "cell_type": "code",
   "execution_count": 97,
   "metadata": {},
   "outputs": [
    {
     "data": {
      "text/plain": [
       "array([0.9646 , 0.96255, 0.9666 ])"
      ]
     },
     "execution_count": 97,
     "metadata": {},
     "output_type": "execute_result"
    }
   ],
   "source": [
    "from sklearn.model_selection import cross_val_score\n",
    "\n",
    "cross_val_score(forest_clf, X_train, y_train, cv=3, scoring='accuracy')"
   ]
  },
  {
   "cell_type": "markdown",
   "metadata": {},
   "source": [
    "As we can see, Random Forest Classifier is over 96% accurate on all the test folds, which is not a bad score. We can still fine tune it using various hyperparameters."
   ]
  },
  {
   "cell_type": "markdown",
   "metadata": {},
   "source": [
    "##### Error Analysis\n",
    "\n",
    "Let's look at the confusion matrics. In order to do so, we need predictions"
   ]
  },
  {
   "cell_type": "code",
   "execution_count": 98,
   "metadata": {},
   "outputs": [
    {
     "name": "stdout",
     "output_type": "stream",
     "text": [
      "[[5846    2    7    2    4    6   19    1   32    4]\n",
      " [   1 6636   32   16   15    4    7   15   10    6]\n",
      " [  24   11 5756   30   31    2   19   39   39    7]\n",
      " [   8    6   84 5815    2   66    8   53   61   28]\n",
      " [  12   12   11    0 5670    0   20   11   17   89]\n",
      " [  25    7   11   58    9 5210   41    5   32   23]\n",
      " [  25   11    1    0    8   33 5818    0   22    0]\n",
      " [   4   22   64    6   41    1    1 6044   13   69]\n",
      " [  11   28   35   52   26   49   25    6 5553   66]\n",
      " [  24   11   16   80   70   18    4   51   36 5639]]\n"
     ]
    }
   ],
   "source": [
    "y_train_pred = cross_val_predict(forest_clf, X_train, y_train, cv=5)\n",
    "conf_mx = confusion_matrix(y_train, y_train_pred)\n",
    "print(conf_mx)"
   ]
  },
  {
   "cell_type": "markdown",
   "metadata": {},
   "source": [
    "It's often easier to visualize the confusion matrix. Let's try that:"
   ]
  },
  {
   "cell_type": "code",
   "execution_count": 103,
   "metadata": {},
   "outputs": [
    {
     "data": {
      "image/png": "[encoded data removed]",
      "text/plain": [
       "<Figure size 288x288 with 1 Axes>"
      ]
     },
     "metadata": {
      "needs_background": "light"
     },
     "output_type": "display_data"
    }
   ],
   "source": [
    "plt.matshow(conf_mx, cmap='gray')\n",
    "plt.show()"
   ]
  },
  {
   "cell_type": "markdown",
   "metadata": {},
   "source": [
    "The confusion matrix looks good since majority of the values are on the diagonal line. \n",
    "Let's focus the plot on the errors. First, we need to divide each value in the confusion matrix by the number of images in the corresponding class, so we can compare error rates instead of absolute number of errors"
   ]
  },
  {
   "cell_type": "code",
   "execution_count": 105,
   "metadata": {},
   "outputs": [],
   "source": [
    "row_sums = conf_mx.sum(axis=1, keepdims=True) \n",
    "norm_conf_mx = conf_mx/row_sums"
   ]
  },
  {
   "cell_type": "markdown",
   "metadata": {},
   "source": [
    "Now let's fill the diagonal with zeros to keep only the errors, and plot the result:"
   ]
  },
  {
   "cell_type": "code",
   "execution_count": 110,
   "metadata": {},
   "outputs": [
    {
     "data": {
      "image/png": "[encoded data removed]",
      "text/plain": [
       "<Figure size 288x288 with 1 Axes>"
      ]
     },
     "metadata": {
      "needs_background": "light"
     },
     "output_type": "display_data"
    }
   ],
   "source": [
    "np.fill_diagonal(norm_conf_mx, 0)\n",
    "\n",
    "plt.matshow(norm_conf_mx, cmap='gray')\n",
    "plt.xlabel('Predicted Class')\n",
    "plt.ylabel('Actual Class')\n",
    "plt.show()"
   ]
  },
  {
   "cell_type": "markdown",
   "metadata": {},
   "source": [
    "## Multilabel Classification\n",
    "\n",
    "Until now each instance has always been assigned to just one class. In some cases we may want our classifier to output multiple classes for each instance. For example, consider a face-recognition classifier: what sould it do if it recognizes several people on the same picture? Of course it should attach one tag per person it recognizes. Say the classifier has been trained to recognize three faces, Jack, Jill and John; then when it is shown a picture of Jack and Jill, it should output (1, 1, 0) (meaning \"Jack Yes, Jill Yes, John No\"). Such a classification system that outputs multiple binary tags is called Multilabel Classification Sysytem.\n",
    "\n",
    "Let's look at a simple example which detects if the number is greater than 7 and is Odd or Even. For this example, we will be using `KNeighborsClassifier`:"
   ]
  },
  {
   "cell_type": "code",
   "execution_count": 111,
   "metadata": {},
   "outputs": [
    {
     "data": {
      "text/plain": [
       "KNeighborsClassifier(algorithm='auto', leaf_size=30, metric='minkowski',\n",
       "                     metric_params=None, n_jobs=None, n_neighbors=5, p=2,\n",
       "                     weights='uniform')"
      ]
     },
     "execution_count": 111,
     "metadata": {},
     "output_type": "execute_result"
    }
   ],
   "source": [
    "from sklearn.neighbors import KNeighborsClassifier\n",
    "\n",
    "y_train_large = (y_train >= 7)\n",
    "y_train_odd = (y_train % 2 == 1)\n",
    "y_multilabel = np.c_[y_train_large, y_train_odd]\n",
    "\n",
    "knn_clf = KNeighborsClassifier()\n",
    "knn_clf.fit(X_train, y_multilabel)"
   ]
  },
  {
   "cell_type": "markdown",
   "metadata": {},
   "source": [
    "_**NOTE:** KNeighborsClassifier supports multilabel classification, but not all classifiers do._"
   ]
  },
  {
   "cell_type": "markdown",
   "metadata": {},
   "source": [
    "Let's predict the some_digit using the above classifier"
   ]
  },
  {
   "cell_type": "code",
   "execution_count": 112,
   "metadata": {},
   "outputs": [
    {
     "data": {
      "text/plain": [
       "array([[False,  True]])"
      ]
     },
     "execution_count": 112,
     "metadata": {},
     "output_type": "execute_result"
    }
   ],
   "source": [
    "knn_clf.predict([some_digit])"
   ]
  },
  {
   "cell_type": "markdown",
   "metadata": {},
   "source": [
    "We can see there are two predictions:\n",
    "- 1st Prediction (False) is correct as \"5\" is not larger than \"7\"\n",
    "- 2nd Prediction (True) is correct as \"5\" is an odd number"
   ]
  },
  {
   "cell_type": "markdown",
   "metadata": {},
   "source": [
    "##### Evaluating Multilabel Classifiers\n",
    "There are many ways to evaluate a multilabel classifier, and selecting the right metric really depends on our project. For example, one approach is to measure F1 score for each individual label (or any other binary classifier metric discussed earlier), then simply compute the average score.\n",
    "\n",
    "We need predictions in order to calculate the F1 Score, so let's get that first:"
   ]
  },
  {
   "cell_type": "code",
   "execution_count": 113,
   "metadata": {},
   "outputs": [],
   "source": [
    "# The following code took more than 50 mins to run\n",
    "y_train_knn_pred = cross_val_predict(knn_clf, X_train, y_multilabel, cv=3)"
   ]
  },
  {
   "cell_type": "markdown",
   "metadata": {},
   "source": [
    "Now, let's calculate the F1 Score"
   ]
  },
  {
   "cell_type": "code",
   "execution_count": 114,
   "metadata": {},
   "outputs": [
    {
     "name": "stdout",
     "output_type": "stream",
     "text": [
      "KNN F1 Score:  97.64%\n"
     ]
    }
   ],
   "source": [
    "knn_f1_score = f1_score(y_multilabel, y_train_knn_pred, average='macro')\n",
    "print(f'KNN F1 Score: {knn_f1_score: .2%}')"
   ]
  },
  {
   "cell_type": "markdown",
   "metadata": {},
   "source": [
    "This assumes that all labels are equally important, which may not be the case. In particular, if you have many more pictures of Jill than of Jack and John, you may want to give more weight to the classifier's score on pictures of Jill. One simple option is to give each label a weight equal to its support (i.e., the number of instances with that target label). To do this simply set `average='weighted'` in the preceding code."
   ]
  },
  {
   "cell_type": "markdown",
   "metadata": {},
   "source": [
    "#### Multioutput Classification\n",
    "\n",
    "It is also known as **Multioutput Multiclass Classification**. It is simply a generalization of multilabel classification where each label can be a multiclass (i.e., it can have more than two possible values).\n",
    "\n",
    "To illustrate this, let's build a system that removes noise from images. It will take as input a noisy digit image, and it will (hopefully) output a clean digit image, represented as an array of pixel intensities, just like the MNIST images. Notice that the classifier's output is multilabel (one label per pixel) and each label can have multiple values (pixel intensity ranges from 0 to 255). It is thus an example of Multioutput Classification system.\n",
    "\n",
    "Let's start by creating the training and test sets by taking MNIST images and adding noise to their pixel intensities unsing NumPy's `randint()` function. The target images will be the original images."
   ]
  },
  {
   "cell_type": "code",
   "execution_count": 115,
   "metadata": {},
   "outputs": [],
   "source": [
    "noise = np.random.randint(0, 100, (len(X_train), 784))\n",
    "X_train_mod = X_train + noise\n",
    "noise = np.random.randint(0, 100, (len(X_test), 784))\n",
    "X_test_mod = X_test + noise\n",
    "y_train_mod = X_train\n",
    "y_test_mod = X_test"
   ]
  },
  {
   "cell_type": "markdown",
   "metadata": {},
   "source": [
    "Let's look at the images before the noise reduction algorithm:"
   ]
  },
  {
   "cell_type": "code",
   "execution_count": 119,
   "metadata": {},
   "outputs": [
    {
     "data": {
      "text/plain": [
       "(-0.5, 27.5, 27.5, -0.5)"
      ]
     },
     "execution_count": 119,
     "metadata": {},
     "output_type": "execute_result"
    },
    {
     "data": {
      "image/png": "[encoded data removed]",
      "text/plain": [
       "<Figure size 432x288 with 2 Axes>"
      ]
     },
     "metadata": {
      "needs_background": "light"
     },
     "output_type": "display_data"
    }
   ],
   "source": [
    "some_index = 0\n",
    "noise_image = X_test_mod[some_index].reshape(28, 28)\n",
    "image = y_test_mod[some_index].reshape(28, 28)\n",
    "\n",
    "plt.subplot(121); plt.imshow(noise_image, cmap='binary')\n",
    "plt.axis('off')\n",
    "plt.subplot(122); plt.imshow(image, cmap='binary')\n",
    "plt.axis('off')"
   ]
  },
  {
   "cell_type": "markdown",
   "metadata": {},
   "source": [
    "On the left is the noisy input image, and on the right is the clean target image. Now let's train the classifer and make it clean this image"
   ]
  },
  {
   "cell_type": "code",
   "execution_count": 120,
   "metadata": {},
   "outputs": [
    {
     "data": {
      "text/plain": [
       "<matplotlib.image.AxesImage at 0x2978fab3808>"
      ]
     },
     "execution_count": 120,
     "metadata": {},
     "output_type": "execute_result"
    },
    {
     "data": {
      "image/png": "[encoded data removed]",
      "text/plain": [
       "<Figure size 432x288 with 1 Axes>"
      ]
     },
     "metadata": {
      "needs_background": "light"
     },
     "output_type": "display_data"
    }
   ],
   "source": [
    "knn_clf.fit(X_train_mod, y_train_mod)\n",
    "clean_digit = knn_clf.predict([X_test_mod[some_index]]).reshape(28, 28)\n",
    "plt.imshow(clean_digit, cmap='binary')"
   ]
  },
  {
   "cell_type": "code",
   "execution_count": null,
   "metadata": {},
   "outputs": [],
   "source": []
  }
 ],
 "metadata": {
  "kernelspec": {
   "display_name": "Python 3",
   "language": "python",
   "name": "python3"
  },
  "language_info": {
   "codemirror_mode": {
    "name": "ipython",
    "version": 3
   },
   "file_extension": ".py",
   "mimetype": "text/x-python",
   "name": "python",
   "nbconvert_exporter": "python",
   "pygments_lexer": "ipython3",
   "version": "3.9.5"
  }
 },
 "nbformat": 4,
 "nbformat_minor": 4
}
